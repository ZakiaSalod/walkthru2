{
 "cells": [
  {
   "cell_type": "code",
   "execution_count": null,
   "id": "482f5434-052c-4756-913c-cd3daae236b5",
   "metadata": {},
   "outputs": [],
   "source": [
    "# Bismillahir Rahmaanir Raheem\n",
    "# Almadadh Ya Gause Radi Allahu Ta'alah Anh - Ameen"
   ]
  },
  {
   "cell_type": "markdown",
   "id": "9def7223-372a-4a80-bbe4-4de6578bbf41",
   "metadata": {},
   "source": [
    "## Walkthru sample notebook"
   ]
  },
  {
   "cell_type": "markdown",
   "id": "2f6a4ff4-8ecf-4551-bc39-22ae37708b68",
   "metadata": {},
   "source": [
    "Here is how I calculate `1+1`:"
   ]
  },
  {
   "cell_type": "code",
   "execution_count": 5,
   "id": "ad4e3d82-418f-4037-ae38-361cde0c17e1",
   "metadata": {},
   "outputs": [
    {
     "data": {
      "text/plain": [
       "2"
      ]
     },
     "execution_count": 5,
     "metadata": {},
     "output_type": "execute_result"
    }
   ],
   "source": [
    "1+1"
   ]
  },
  {
   "cell_type": "code",
   "execution_count": 6,
   "id": "0b12a737-291a-40cf-832d-4f28b371ef57",
   "metadata": {},
   "outputs": [],
   "source": [
    "from numpy import *"
   ]
  },
  {
   "cell_type": "markdown",
   "id": "bd766420-6f60-49da-b4dc-ac3b16bb89a1",
   "metadata": {},
   "source": [
    "Here is how I calculate `sin`:"
   ]
  },
  {
   "cell_type": "code",
   "execution_count": 7,
   "id": "d1e598df-6f31-44b8-bc6c-8938ed75a1ab",
   "metadata": {},
   "outputs": [
    {
     "data": {
      "text/plain": [
       "array([0.84147098, 1.        ])"
      ]
     },
     "execution_count": 7,
     "metadata": {},
     "output_type": "execute_result"
    }
   ],
   "source": [
    "a = array([1.0, pi/2])\n",
    "sin(a)"
   ]
  },
  {
   "cell_type": "code",
   "execution_count": null,
   "id": "9b01ff2f-8b0a-4516-bb5e-7f7360c8d0fc",
   "metadata": {},
   "outputs": [],
   "source": []
  }
 ],
 "metadata": {
  "kernelspec": {
   "display_name": "Python 3 (ipykernel)",
   "language": "python",
   "name": "python3"
  },
  "language_info": {
   "codemirror_mode": {
    "name": "ipython",
    "version": 3
   },
   "file_extension": ".py",
   "mimetype": "text/x-python",
   "name": "python",
   "nbconvert_exporter": "python",
   "pygments_lexer": "ipython3",
   "version": "3.9.13"
  }
 },
 "nbformat": 4,
 "nbformat_minor": 5
}
